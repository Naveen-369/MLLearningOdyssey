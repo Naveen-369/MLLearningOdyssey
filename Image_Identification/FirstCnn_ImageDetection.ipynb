{
 "cells": [
  {
   "cell_type": "markdown",
   "metadata": {},
   "source": [
    "First Lets Ty to implement thre same number Detection problem using the Convolution Neural Network Approach"
   ]
  },
  {
   "cell_type": "code",
   "execution_count": null,
   "metadata": {},
   "outputs": [],
   "source": [
    "import warnings\n",
    "warnings.filterwarnings(\"ignore\")\n",
    "print(\"Importing the necessary Modules...\")\n",
    "import numpy as np\n",
    "import keras\n",
    "from keras.models import Sequential #Model Type\n",
    "from keras.layers import Dense, Flatten, Dropout, MaxPooling2D,Conv2D   # Model Layers and the Convolution Neural Network Functions\n",
    "# IT is taken as 2d because the data is in 2d\n",
    "from keras.applications.mobilenet import MobileNet  # Pre Trained model\n",
    "from keras.applications.vgg16 import preprocess_input,decode_predictions  \n",
    "from keras.models import Model  \n",
    "from keras.preprocessing import image   #For image Preporcessing\n",
    "print(\"Completed Importing the necessary Modules 👍\")"
   ]
  },
  {
   "cell_type": "code",
   "execution_count": null,
   "metadata": {},
   "outputs": [],
   "source": [
    "model=MobileNet(alpha=0.25,input_shape=None,include_top=True,depth_multiplier=1,dropout=1e-3,weights=\"imagenet\",pooling=None,input_tensor=None,classes=1000)"
   ]
  },
  {
   "cell_type": "code",
   "execution_count": null,
   "metadata": {},
   "outputs": [],
   "source": [
    "model.summary()"
   ]
  },
  {
   "cell_type": "code",
   "execution_count": null,
   "metadata": {},
   "outputs": [],
   "source": [
    "img_path=\"Cat.jpeg\"\n",
    "img=image.load_img(img_path,target_size=(224,224))\n",
    "x=image.img_to_array(img)\n",
    "x=np.expand_dims(x,axis=0)\n",
    "x=preprocess_input(x)\n",
    "\n",
    "predicion=model.predict(x)\n",
    "print(predicion.shape)\n",
    "print(decode_predictions(predicion))"
   ]
  },
  {
   "cell_type": "code",
   "execution_count": null,
   "metadata": {},
   "outputs": [],
   "source": [
    "minimal_mid_node=Model(inputs=model.input,outputs=model.get_layer('conv_pw_5_bn').output)\n",
    "prodictionValueatMinimal_mid_Node=minimal_mid_node.predict(x)\n",
    "print(prodictionValueatMinimal_mid_Node.shape)"
   ]
  }
 ],
 "metadata": {
  "kernelspec": {
   "display_name": "base",
   "language": "python",
   "name": "python3"
  },
  "language_info": {
   "codemirror_mode": {
    "name": "ipython",
    "version": 3
   },
   "file_extension": ".py",
   "mimetype": "text/x-python",
   "name": "python",
   "nbconvert_exporter": "python",
   "pygments_lexer": "ipython3",
   "version": "3.11.7"
  }
 },
 "nbformat": 4,
 "nbformat_minor": 2
}
