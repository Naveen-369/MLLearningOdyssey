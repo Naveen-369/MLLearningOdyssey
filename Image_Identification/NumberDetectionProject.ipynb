{
 "cells": [
  {
   "cell_type": "code",
   "execution_count": null,
   "metadata": {},
   "outputs": [],
   "source": [
    "import warnings\n",
    "warnings.filterwarnings(\"ignore\")\n",
    "import numpy as np\n",
    "import keras\n",
    "from keras.datasets import mnist\n",
    "from keras.models import Sequential,model_from_json\n",
    "from keras.layers import Dense\n",
    "from keras.optimizers import RMSprop\n",
    "import matplotlib.pyplot as plt\n",
    "print(\"Done Importing\") "
   ]
  },
  {
   "cell_type": "code",
   "execution_count": null,
   "metadata": {},
   "outputs": [],
   "source": [
    "batch_size=128\n",
    "no_of_classes=10\n",
    "epoch=6\n",
    "\n",
    "(x_train,y_train),(x_test,y_test)=mnist.load_data()"
   ]
  },
  {
   "cell_type": "code",
   "execution_count": null,
   "metadata": {},
   "outputs": [],
   "source": [
    "x_train=x_train.reshape(x_train.shape[0],x_train.shape[1]*x_train.shape[2])\n",
    "x_test=x_test.reshape(x_test.shape[0],x_test.shape[1]*x_test.shape[2])\n",
    "x_train=x_train.astype(\"float32\")\n",
    "x_test=x_test.astype(\"float32\")\n",
    "x_train/=255\n",
    "x_test/=255\n",
    "y_test=keras.utils.to_categorical(y_test,no_of_classes)\n",
    "y_train=keras.utils.to_categorical(y_train,no_of_classes)\n",
    "print(\"Done the data Cleaning\")\n"
   ]
  },
  {
   "cell_type": "code",
   "execution_count": null,
   "metadata": {},
   "outputs": [],
   "source": [
    "# Checking it\n",
    "print(y_train[3])\n",
    "plt.imshow(x_train[3].reshape(28,28),cmap=\"gray\")\n",
    "plt.show()"
   ]
  },
  {
   "cell_type": "code",
   "execution_count": null,
   "metadata": {},
   "outputs": [],
   "source": [
    "#Lets Build the model\n",
    "First_Layers_No_Pf_Nodes=33\n",
    "model=Sequential()\n",
    "model.add(Dense(First_Layers_No_Pf_Nodes,activation=\"sigmoid\",input_shape=(28*28,)))\n",
    "model.add(Dense(33,activation=\"sigmoid\"))\n",
    "model.add(Dense(33,activation=\"sigmoid\"))\n",
    "model.add(Dense(no_of_classes,activation=\"softmax\"))"
   ]
  },
  {
   "cell_type": "code",
   "execution_count": null,
   "metadata": {},
   "outputs": [],
   "source": [
    "#Compilgin the model\n",
    "model.compile(loss=\"categorical_crossentropy\",optimizer=RMSprop(),metrics=[\"Accuracy\"])"
   ]
  },
  {
   "cell_type": "code",
   "execution_count": null,
   "metadata": {},
   "outputs": [],
   "source": [
    "# Train of the model\n",
    "model.fit(x_train,y_train,epochs=epoch,verbose=1)"
   ]
  },
  {
   "cell_type": "code",
   "execution_count": null,
   "metadata": {},
   "outputs": [],
   "source": [
    "Score=model.evaluate(x_test,y_test,verbose=1)\n",
    "print(\"Loss : \",Score[0]*100)\n",
    "print(\"Accuracy : \",Score[1]*100)"
   ]
  },
  {
   "cell_type": "code",
   "execution_count": null,
   "metadata": {},
   "outputs": [],
   "source": [
    "Prediction=model.predict(x_test[3:4])\n",
    "Prediction=Prediction[0]\n",
    "print(\"Preditions : \",Prediction)\n",
    "print(\"Result : \",(Prediction>0.5)*1)"
   ]
  },
  {
   "cell_type": "code",
   "execution_count": null,
   "metadata": {},
   "outputs": [],
   "source": [
    "print(y_test[3:4])\n",
    "plt.imshow(x_test[3:4].reshape(28,28),cmap=\"gray\")\n",
    "plt.show()"
   ]
  },
  {
   "cell_type": "code",
   "execution_count": null,
   "metadata": {},
   "outputs": [],
   "source": [
    "# Importing the cv2 module for interptrting th image\n",
    "import cv2\n",
    "imagedata=cv2.imread(\"Datum.jpg\",cv2.IMREAD_COLOR)\n",
    "imagedata_Converted=cv2.cvtColor(imagedata,cv2.IMREAD_GRAYSCALE)\n",
    "print(imagedata_Converted.shape)\n",
    "imagedata=cv2.imread(\"Datum.jpg\",cv2.IMREAD_GRAYSCALE)\n",
    "image_ready=cv2.resize(imagedata,(28,28))\n",
    "plt.imshow(image_ready,cmap=\"gray\")\n",
    "plt.show()"
   ]
  },
  {
   "cell_type": "code",
   "execution_count": null,
   "metadata": {},
   "outputs": [],
   "source": [
    "# We will try to predict the number using the model rthat we trained\n",
    "result=model.predict(image_ready.reshape(1,(28*28)),verbose=0)\n",
    "print(\"REsult : \",result[0])\n",
    "thershold=(result>0.5)*1\n",
    "print(\"The score : \",thershold[0])\n",
    "print(\"THe value is found to be : \",np.where(thershold==1)[1][0])"
   ]
  },
  {
   "cell_type": "code",
   "execution_count": null,
   "metadata": {},
   "outputs": [],
   "source": [
    "saver=model.to_json()\n",
    "with open (\"Models/NumberDetectionModel/NumberDetectionModel.json\",\"w\") as StorageFile:\n",
    "    StorageFile.write(saver)\n",
    "    \n",
    "model.save_weights(\"Models/NumberDetectionModel/NumberDetectionModel.weights.h5\")\n",
    "print(\"Model Saved\")"
   ]
  }
 ],
 "metadata": {
  "kernelspec": {
   "display_name": "base",
   "language": "python",
   "name": "python3"
  },
  "language_info": {
   "codemirror_mode": {
    "name": "ipython",
    "version": 3
   },
   "file_extension": ".py",
   "mimetype": "text/x-python",
   "name": "python",
   "nbconvert_exporter": "python",
   "pygments_lexer": "ipython3",
   "version": "3.11.7"
  }
 },
 "nbformat": 4,
 "nbformat_minor": 2
}
