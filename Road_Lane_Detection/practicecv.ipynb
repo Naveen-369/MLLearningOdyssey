{
 "cells": [
  {
   "cell_type": "code",
   "execution_count": 7,
   "metadata": {},
   "outputs": [],
   "source": [
    "import cv2 as cv\n",
    "import numpy as np\n",
    "import matplotlib.pyplot as plt"
   ]
  },
  {
   "cell_type": "code",
   "execution_count": 8,
   "metadata": {},
   "outputs": [],
   "source": [
    "# image=cv.imread(\"road.png\",1)\n",
    "# image=cv.cvtColor(image,cv.COLOR_BGR2RGB)\n",
    "# cv.imshow(\"Image Window\",image)\n",
    "# plt.imshow(image)\n",
    "# plt.plot()"
   ]
  },
  {
   "cell_type": "code",
   "execution_count": 9,
   "metadata": {},
   "outputs": [],
   "source": [
    "# Definition of the function for the Cropping of the image\n",
    "def Cropper_Tool(color,image,vertices):\n",
    "    mask=np.zeros_like(image)\n",
    "    after_color=(255,)*color\n",
    "    cv.fillPoly(mask,vertices,after_color)\n",
    "    masked_image=cv.bitwise_and(image,mask)\n",
    "    return masked_image\n"
   ]
  },
  {
   "cell_type": "code",
   "execution_count": 10,
   "metadata": {},
   "outputs": [],
   "source": [
    "def process(image):\n",
    "    height,width,color=image.shape\n",
    "    Area_of_Intrest=[(0,height),(width,height),(width/2,height/2)]\n",
    "    edges=cv.Canny(image,100,200)\n",
    "    image_cropped=Cropper_Tool(color,edges,np.array([Area_of_Intrest],np.int32))\n",
    "    lines=cv.HoughLinesP(image_cropped,6,np.pi/60,160,lines=np.array([]),minLineLength=40,maxLineGap=10)\n",
    "    image_copy=np.copy(image)\n",
    "    blank_image=np.zeros(image_copy.shape,dtype=np.uint8)\n",
    "    for line in lines:\n",
    "        for x1,y1,x2,y2 in line:\n",
    "            cv.line(blank_image,(x1,y1),(x2,y2),(255,0,0),6)\n",
    "    image_copy=cv.addWeighted(image_copy,0.8,blank_image,1,0)\n",
    "    return image_copy"
   ]
  },
  {
   "cell_type": "code",
   "execution_count": 11,
   "metadata": {},
   "outputs": [],
   "source": [
    "# imager=process(image)\n",
    "# plt.imshow(imager)\n",
    "# plt.plot()"
   ]
  },
  {
   "cell_type": "code",
   "execution_count": 6,
   "metadata": {},
   "outputs": [],
   "source": [
    "capture=cv.VideoCapture(\"test_video.mp4\")\n",
    "while(capture.isOpened()):\n",
    "    ret,frame=capture.read()\n",
    "    frame=process(frame)\n",
    "    cv.imshow(\"frame\",frame)\n",
    "    if cv.waitKey(1) & 0xFF==ord('q'):\n",
    "        break\n",
    "capture.release()\n",
    "cv.destroyAllWindows()"
   ]
  }
 ],
 "metadata": {
  "kernelspec": {
   "display_name": "Playground",
   "language": "python",
   "name": "python3"
  },
  "language_info": {
   "codemirror_mode": {
    "name": "ipython",
    "version": 3
   },
   "file_extension": ".py",
   "mimetype": "text/x-python",
   "name": "python",
   "nbconvert_exporter": "python",
   "pygments_lexer": "ipython3",
   "version": "3.11.7"
  }
 },
 "nbformat": 4,
 "nbformat_minor": 2
}
